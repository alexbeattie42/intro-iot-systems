{
 "cells": [
  {
   "metadata": {
    "collapsed": true
   },
   "cell_type": "markdown",
   "source": [
    "# BL40A2010 Introduction to IoT-Based Systems\n",
    "\n",
    "## Assignment 6, 01.03.2021\n",
    "\n",
    "### Author: Alex Beattie"
   ]
  },
  {
   "metadata": {},
   "cell_type": "markdown",
   "source": [
    "**Prisoner's dilemma** is a standard example of a game analyzed in game theory that shows why two completely rational individuals might not cooperate, even if it appears that it is in their best interests to do so. It was originally framed by Merrill Flood and Melvin Dresher while working at RAND in 1950. Albert W. Tucker formalized the game with prison sentence rewards and named it \"prisoner's dilemma\", presenting it as follows:\n",
    "\n",
    "\"Two members of a criminal gang are arrested and imprisoned. Each prisoner is in solitary confinement with no means of communicating with the other. The prosecutors lack sufficient evidence to convict the pair on the principal charge, but they have enough to convict both on a lesser charge. Simultaneously, the prosecutors offer each prisoner a bargain. Each prisoner is given the opportunity either to betray the other by testifying that the other committed the crime, or to cooperate with the other by remaining silent. The possible outcomes are:\n",
    "\n",
    "- If A and B each betray the other (not-cooperating to each other), each of them serves $z$ years in prison (payoff of $-z$)\n",
    "- If A betrays B (not-cooperating with B) but B remains silent (cooperating with A), A will serve $y$ years in prison (payoff $-y$) and B will serve $w$ years  (payoff of $-w$).\n",
    "- If B betrays A (not-cooperating with A) but A remains silent (cooperating with B), B will serve $y$ years in prison (payoff $-y$) and A will serve $w$ years  (payoff of $-w$).\n",
    "- If A and B both remain silent, both of them will serve $x$ years in prison (payoff of $-x$).\"\n",
    "\n",
    "The payoff table is presented below. \n",
    "\n",
    "|       *         | $B$ cooperates  | $B$ not-cooperating   |\n",
    "|----------------|:---------------:|--------------:|\n",
    "| $A$ cooperates |  $A \\rightarrow -x$   | $A\\rightarrow -w$  |\n",
    "|       *         |  $B\\rightarrow -x$   | $B\\rightarrow -y$  |\n",
    "|               |                 |               |\n",
    "| $A$ not-cooperating   |  $A\\rightarrow -y$   | $A\\rightarrow -z$  |\n",
    "|           *     |  $B\\rightarrow -w$   | $B\\rightarrow -z$  |\n",
    "\n",
    "**However, this is only a *Prisoner's Dilemma GAME* for A GIVEN RELATION between the years in prison (payoffs) as to be studied next.**\n",
    "\n",
    "ps. Text adapted from [Wikipedia](https://en.wikipedia.org/wiki/Prisoner's_dilemma)."
   ]
  },
  {
   "metadata": {},
   "cell_type": "markdown",
   "source": [
    "**(1) Consider the Prisoner's dilemma description given above.**\n",
    "\n",
    "**(a) What is the relation between the payoffs values $x\\geq 0$, $y\\geq 0$, $w\\geq 0$ and $z \\geq 0$ so that the game can be classified as [Prisoner's Dilemma](https://en.wikipedia.org/wiki/Prisoner's_dilemma)?**\n",
    "\n",
    "**(b) Verify the results (i.e., the proposed inequality) with numerical examples using [nashpy](https://nashpy.readthedocs.io/en/stable/index.html). Please provide one example when the inequality holds and one it does not (check my example for Dove and Hawyk game).**"
   ]
  },
  {
   "metadata": {
    "trusted": false,
    "pycharm": {
     "name": "#%% md\n"
    }
   },
   "cell_type": "markdown",
   "source": [
    "*Answer:* To be a Prisoner's Dilema game:\n",
    "- Both betraying each other is worse than both being cooperating, therefore:  x < z,\n",
    "- When one player betrays and the other cooperates it is advantageous to the betrayer: y < x\n",
    "- If the other player does not cooperate then not-cooperating will be advantageous for you cooperation: z < w,\n",
    "- There shall be Nash equilibria when one player cooperates and the other betrays.\n",
    "\n",
    "Putting all together:  y < x < z < w"
   ]
  },
  {
   "cell_type": "code",
   "execution_count": 1,
   "outputs": [
    {
     "name": "stdout",
     "output_type": "stream",
     "text": [
      "Requirement already satisfied: nashpy in c:\\programdata\\anaconda3\\envs\\intro-iot-systems\\lib\\site-packages (0.0.19)\n",
      "Requirement already satisfied: scipy>=0.19.0 in c:\\programdata\\anaconda3\\envs\\intro-iot-systems\\lib\\site-packages (from nashpy) (1.6.0)\n",
      "Requirement already satisfied: numpy>=1.12.1 in c:\\programdata\\anaconda3\\envs\\intro-iot-systems\\lib\\site-packages (from nashpy) (1.19.2)\n"
     ]
    }
   ],
   "source": [
    "#Verification with nashpy\n",
    "#Installing a missing library\n",
    "! pip install nashpy"
   ],
   "metadata": {
    "collapsed": false,
    "pycharm": {
     "name": "#%%\n"
    }
   }
  },
  {
   "cell_type": "code",
   "execution_count": 3,
   "outputs": [],
   "source": [
    "import numpy as np\n",
    "import nashpy as nash"
   ],
   "metadata": {
    "collapsed": false,
    "pycharm": {
     "name": "#%%\n"
    }
   }
  },
  {
   "cell_type": "markdown",
   "source": [
    "### Test 1:  y < x < z < w\n",
    "\n",
    "\n",
    "|         *       | $B$ cooperates  | $B$ not-cooperative    |\n",
    "|----------------|:---------------:|--------------:|\n",
    "| $A$ cooperates |  $A \\rightarrow -1$   | $A \\rightarrow -4$  |\n",
    "|      *          |  $B \\rightarrow -1$   | $B\\rightarrow 0$  |\n",
    "|                |                 |               |\n",
    "| $A$ not-cooperative |  $A\\rightarrow 0$      | $A\\rightarrow -3$  |\n",
    "|        *        |  $B\\rightarrow -4$   | $B\\rightarrow -3$  |\n"
   ],
   "metadata": {
    "collapsed": false
   }
  },
  {
   "cell_type": "code",
   "execution_count": 10,
   "outputs": [
    {
     "data": {
      "text/plain": "Bi matrix game with payoff matrices:\n\nRow player:\n[[-1 -4]\n [ 0 -3]]\n\nColumn player:\n[[-1  0]\n [-4 -3]]"
     },
     "execution_count": 10,
     "metadata": {},
     "output_type": "execute_result"
    }
   ],
   "source": [
    "# Test 1 -> x=1, w=4, z=3 and y=0\n",
    "A = [[-1, -4], [0, -3]]\n",
    "B = [[-1, 0], [-4, -3]]\n",
    "prisoner_dilema = nash.Game(A, B)\n",
    "prisoner_dilema"
   ],
   "metadata": {
    "collapsed": false,
    "pycharm": {
     "name": "#%%\n"
    }
   }
  },
  {
   "cell_type": "code",
   "execution_count": 11,
   "outputs": [
    {
     "data": {
      "text/plain": "[(array([0., 1.]), array([0., 1.]))]"
     },
     "execution_count": 11,
     "metadata": {},
     "output_type": "execute_result"
    }
   ],
   "source": [
    "eqs = prisoner_dilema.support_enumeration()\n",
    "list(eqs)"
   ],
   "metadata": {
    "collapsed": false,
    "pycharm": {
     "name": "#%%\n"
    }
   }
  },
  {
   "cell_type": "markdown",
   "source": [
    "This output gives the *mixed strategies Nash equilibria.*\n",
    "\n",
    "- **First line:** Player A (first array) and B (second player) will both cooperate with probability $0$ and not cooperate with probability $1$;\n",
    "\n",
    "\n",
    "This satisfies the condition of being a Prisoners Dilemma."
   ],
   "metadata": {
    "collapsed": false
   }
  },
  {
   "cell_type": "markdown",
   "source": [
    "### Test 2: z > w\n",
    "\n",
    "|         *       | $B$ cooperates  | $B$ not-cooperative    |\n",
    "|----------------|:---------------:|--------------:|\n",
    "| $A$ cooperative |  $A \\rightarrow -1$   | $A \\rightarrow -2$  |\n",
    "|        *        |  $B \\rightarrow -1$   | $B\\rightarrow 0$  |\n",
    "|                |                 |               |\n",
    "| $A$ not-cooperative|  $A\\rightarrow 0$      | $A\\rightarrow -3$  |\n",
    "|      *          |  $B\\rightarrow -2$   | $B\\rightarrow -3$  |\n",
    "\n"
   ],
   "metadata": {
    "collapsed": false
   }
  },
  {
   "cell_type": "code",
   "execution_count": 12,
   "outputs": [
    {
     "data": {
      "text/plain": "Bi matrix game with payoff matrices:\n\nRow player:\n[[-1 -2]\n [ 0 -3]]\n\nColumn player:\n[[-1  0]\n [-2 -3]]"
     },
     "execution_count": 12,
     "metadata": {},
     "output_type": "execute_result"
    }
   ],
   "source": [
    "# Test 2 -> x=1, y=0, z=3 and w=2\n",
    "A = [[-1, -2], [0, -3]]\n",
    "B = [[-1, 0], [-2, -3]]\n",
    "prisoner_dilema2 = nash.Game(A, B)\n",
    "prisoner_dilema2"
   ],
   "metadata": {
    "collapsed": false,
    "pycharm": {
     "name": "#%%\n"
    }
   }
  },
  {
   "cell_type": "code",
   "execution_count": 13,
   "outputs": [
    {
     "data": {
      "text/plain": "[(array([1., 0.]), array([0., 1.])),\n (array([0., 1.]), array([1., 0.])),\n (array([0.5, 0.5]), array([0.5, 0.5]))]"
     },
     "execution_count": 13,
     "metadata": {},
     "output_type": "execute_result"
    }
   ],
   "source": [
    "eqs = prisoner_dilema2.support_enumeration()\n",
    "list(eqs)"
   ],
   "metadata": {
    "collapsed": false,
    "pycharm": {
     "name": "#%%\n"
    }
   }
  },
  {
   "cell_type": "markdown",
   "source": [
    "This output gives the *mixed strategies Nash equilibria.*\n",
    "\n",
    "- **First line:** Player A (first array) will be cooperative with probability $1$ and not-cooperative with probability $0$;\n",
    " Player B (second array) will be cooperative with probability $0$ and be timid with probability $1$.\n",
    "- **Second line:** Player A (first array) will be cooperative with probability $0$ and be not cooperative with probability $1$;\n",
    " Player B (second array) will be cooperative with probability $1$ and be not cooperative with probability $0$.\n",
    "\n",
    "This satisfies the condition of being a Prisoner's dileama. Note that there is also a third Nash equilibrium, but a mixed strategy one.\n",
    "- **Third line:** Both players will be cooperative with probability $1/2$ and not-cooperative with probability $1/2$;"
   ],
   "metadata": {
    "collapsed": false
   }
  },
  {
   "metadata": {
    "pycharm": {
     "name": "#%% md\n"
    }
   },
   "cell_type": "markdown",
   "source": [
    "**(2) Justify why the game from the previous exercise is or is not a good (reasonable) model when $A$ and $B$ are:**\n",
    "\n",
    "**1. Two trained members from the army when they are in prison.**\n",
    "\n",
    "No. This is not a good model because the model does not account for any training. In the military part of the training presumably\n",
    "includes not betraying your unit or fellow soldiers. So the game would be unlikely to predict the outcome of this situation\n",
    "\n",
    "**2. Competitive companies in the market discussing standardization.**\n",
    "\n",
    "Yes. Even though mutually agreed upon standardization could bring better benefits to both companies many companies choose\n",
    "to develop and use proprietary standards. For example apple uses a proprietary connector for their phones and most laptop\n",
    "computers have proprietry power supplies.\n",
    "\n",
    "**3. Two different autonomous IoT-based home energy management algorithms that are focus on energy efficiency.**\n",
    "\n",
    "No. Because these two systems are focused on energy efficiency there would be no benefit in betraying the other one. The\n",
    "focous of these systems is ensuring energy is used as efficiently as possible, not maximizing their own ammount of energy.\n",
    "\n",
    "**4. Two different autonomous IoT-based home energy management algorithms that are focus on profit maximization.**\n",
    "\n",
    "Yes. When both systems are trying to maximize profit they will choose to betray the other if it involves financial gain\n",
    "for one of the systems. This is one of the problems with profit-driven power distribution and energy grids.\n",
    "\n",
    "**ps. You need to think about the assumption used in Game Theory and in the Prisoner's dilemma problem setting.**\n",
    "\n"
   ]
  }
 ],
 "metadata": {
  "kernelspec": {
   "name": "python3",
   "display_name": "Python 3",
   "language": "python"
  },
  "language_info": {
   "name": "python",
   "version": "3.7.8",
   "mimetype": "text/x-python",
   "codemirror_mode": {
    "name": "ipython",
    "version": 3
   },
   "pygments_lexer": "ipython3",
   "nbconvert_exporter": "python",
   "file_extension": ".py"
  }
 },
 "nbformat": 4,
 "nbformat_minor": 2
}