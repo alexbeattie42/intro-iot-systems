{
 "cells": [
  {
   "metadata": {
    "collapsed": true
   },
   "cell_type": "markdown",
   "source": [
    "# BL40A2010 Introduction to IoT-Based Systems\n",
    "\n",
    "## Example of how *homework 3* should be done. I will study the case of the complete graph."
   ]
  },
  {
   "metadata": {},
   "cell_type": "markdown",
   "source": [
    "**(1) Compute the following for a *complete* topology of $N\\geq3$ nodes considering that the network in unweighted and the links are directed. The result will give these number as a function of $N$.** "
   ]
  },
  {
   "metadata": {},
   "cell_type": "markdown",
   "source": [
    "Answer:\n",
    "\n",
    "Complete graph means that all nodes are connected to each other. All nodes have the same characterization.\n",
    "\n",
    "(a) Degree of nodes: $N-1$\n",
    "\t\n",
    "(b) Adjacent matrix:  \n",
    "\n",
    "$$\n",
    "A = \\begin{pmatrix} \n",
    "\t0 & 1 &1 & 1 & ... & 1 \\\\\n",
    "\t1 & 0 & 1 & 1 & ... & 1 \\\\\n",
    "\t... & ... & ... & ... & ... & ... \\\\\n",
    "    1 & 1 & 1 & 1 & ... & 0 \n",
    "\\end{pmatrix}\n",
    "$$\n",
    "\n",
    "(c) Diameter: $1$ regardless of $N$ (all nodes are connected)\n",
    "\n",
    "(d) Clustering coefficient of all nodes: $1$ regardless of $N$  (the neighbors form complete graphs)."
   ]
  },
  {
   "metadata": {},
   "cell_type": "markdown",
   "source": [
    "**(2) Use NetworkX to draw and analyze a *complete* topology with 5 nodes. Verify if the results previously obtained are valid.**"
   ]
  },
  {
   "metadata": {
    "trusted": true
   },
   "cell_type": "code",
   "source": [
    "#Upgrading the library to v2.3\n",
    "! pip install --upgrade networkx scipy"
   ],
   "execution_count": 4,
   "outputs": [
    {
     "name": "stdout",
     "output_type": "stream",
     "text": [
      "Requirement already satisfied: networkx in c:\\programdata\\anaconda3\\envs\\intro-iot-systems\\lib\\site-packages (2.5)\n",
      "Requirement already satisfied: scipy in c:\\programdata\\anaconda3\\envs\\intro-iot-systems\\lib\\site-packages (1.6.0)\n",
      "Requirement already satisfied: decorator>=4.3.0 in c:\\programdata\\anaconda3\\envs\\intro-iot-systems\\lib\\site-packages (from networkx) (4.4.2)\n",
      "Requirement already satisfied: numpy>=1.16.5 in c:\\programdata\\anaconda3\\envs\\intro-iot-systems\\lib\\site-packages (from scipy) (1.19.2)\n"
     ]
    }
   ]
  },
  {
   "metadata": {
    "trusted": true
   },
   "cell_type": "code",
   "source": "import networkx as nx #https://networkx.github.io/\nimport matplotlib.pyplot as plt #https://matplotlib.org/\nimport scipy as sp\nimport numpy as np",
   "execution_count": 5,
   "outputs": []
  },
  {
   "metadata": {
    "trusted": true
   },
   "cell_type": "code",
   "source": "G = nx.Graph()\nG = nx.complete_graph(5)\nnx.draw_networkx(G, node_color='black', font_color='white', edge_color='black', font_weight='bold',  node_size=700)\nplt.axis('off')\nplt.show()",
   "execution_count": 6,
   "outputs": [
    {
     "data": {
      "text/plain": "<Figure size 432x288 with 1 Axes>",
      "image/png": "[encoded data removed]"
     },
     "metadata": {},
     "output_type": "display_data"
    }
   ]
  },
  {
   "metadata": {},
   "cell_type": "markdown",
   "source": "(a) Node degree is $N-1 = 5 -1 = 4$"
  },
  {
   "metadata": {
    "trusted": true
   },
   "cell_type": "code",
   "source": "G.degree()",
   "execution_count": 7,
   "outputs": [
    {
     "data": {
      "text/plain": "DegreeView({0: 4, 1: 4, 2: 4, 3: 4, 4: 4})"
     },
     "execution_count": 7,
     "metadata": {},
     "output_type": "execute_result"
    }
   ]
  },
  {
   "metadata": {},
   "cell_type": "markdown",
   "source": "(b) Matrix:\n\n$$\nA = \\begin{pmatrix} \n\t0 & 1 &1 & 1 &  1 \\\\\n\t1 & 0 & 1 & 1 & 1 \\\\\n\t1 & 1 & 0 & 1 & 1  \\\\\n    1 & 1 & 1 & 0 & 1  \\\\\n    1 & 1 & 1 & 1 & 0 \n\\end{pmatrix}\n$$\n"
  },
  {
   "metadata": {
    "trusted": true
   },
   "cell_type": "code",
   "source": "A=nx.adjacency_matrix(G)\nprint(A.todense())",
   "execution_count": 8,
   "outputs": [
    {
     "name": "stdout",
     "output_type": "stream",
     "text": [
      "[[0 1 1 1 1]\n",
      " [1 0 1 1 1]\n",
      " [1 1 0 1 1]\n",
      " [1 1 1 0 1]\n",
      " [1 1 1 1 0]]\n"
     ]
    }
   ]
  },
  {
   "metadata": {},
   "cell_type": "markdown",
   "source": "(c) Diameter: $1$"
  },
  {
   "metadata": {
    "trusted": true
   },
   "cell_type": "code",
   "source": "nx.diameter(G)",
   "execution_count": 9,
   "outputs": [
    {
     "data": {
      "text/plain": "1"
     },
     "execution_count": 9,
     "metadata": {},
     "output_type": "execute_result"
    }
   ]
  },
  {
   "metadata": {},
   "cell_type": "markdown",
   "source": "(d) Clustering coefficient: $1$"
  },
  {
   "metadata": {
    "trusted": true
   },
   "cell_type": "code",
   "source": "nx.clustering(G)",
   "execution_count": 10,
   "outputs": [
    {
     "data": {
      "text/plain": "{0: 1.0, 1: 1.0, 2: 1.0, 3: 1.0, 4: 1.0}"
     },
     "execution_count": 10,
     "metadata": {},
     "output_type": "execute_result"
    }
   ]
  },
  {
   "metadata": {},
   "cell_type": "markdown",
   "source": "### Analytical results derived in question 1 verified by $N=5$."
  },
  {
   "metadata": {},
   "cell_type": "markdown",
   "source": "**(3) Analyze the *complete graph* with size 20 ($N=20$) as a communication network (i.e. how data travel to a point to another in the network) based on the node degree, the network diamenter and the cluster coefficient.**"
  },
  {
   "metadata": {},
   "cell_type": "markdown",
   "source": "Answer: From question 1, the complete graph with $N=20$ is a communication network where every node is connected to every other node. This means that peer-to-peer (single-hop) links can be formed, not requiring multiple hops (this fact is presented by the network diameter). On the other hand, there might happen problems when many \"talk\" to one at the same time (the node degree is $19$). This topology is robust against attacks against links or edges since it is clusterized (there is no special node or brigde connecting network components). "
  },
  {
   "metadata": {},
   "cell_type": "markdown",
   "source": "**(4) Consider the *complete graph* from the previous question. The network performance depends on its diameter. As a designer, you can add one new node in the network (and an unlimited number of links that this node is part) . Justify your decision and evaluate how much better the network is. Generalize this finding as a function of $N$.**\n\n*Hint:*  Follow Exercise 1 approach to generalize the finding."
  },
  {
   "metadata": {},
   "cell_type": "markdown",
   "source": "Answer: Since the network is fully connected, the add node must be connected to every other node so it still is a complete graph, but now with $N=21$. We can generalize this by saying that to maintain the network diameter equals to $1$, the new node must have links to all other $N$ nodes, creating a complete graph of $N+1$ nodes."
  }
 ],
 "metadata": {
  "kernelspec": {
   "name": "python3",
   "language": "python",
   "display_name": "Python 3"
  },
  "language_info": {
   "mimetype": "text/x-python",
   "nbconvert_exporter": "python",
   "name": "python",
   "pygments_lexer": "ipython3",
   "version": "3.6.6",
   "file_extension": ".py",
   "codemirror_mode": {
    "version": 3,
    "name": "ipython"
   }
  }
 },
 "nbformat": 4,
 "nbformat_minor": 2
}